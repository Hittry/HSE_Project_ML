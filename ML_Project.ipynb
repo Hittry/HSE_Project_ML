{
  "nbformat": 4,
  "nbformat_minor": 0,
  "metadata": {
    "colab": {
      "provenance": []
    },
    "kernelspec": {
      "name": "python3",
      "display_name": "Python 3"
    },
    "language_info": {
      "name": "python"
    }
  },
  "cells": [
    {
      "cell_type": "markdown",
      "source": [
        "Получение данных Enron Spam"
      ],
      "metadata": {
        "id": "WuGKSxbqpDTf"
      }
    },
    {
      "cell_type": "code",
      "execution_count": null,
      "metadata": {
        "id": "g7WgP7Seo-TX"
      },
      "outputs": [],
      "source": [
        "import os\n",
        "from os import walk\n",
        "\n",
        "import pandas as pd"
      ]
    },
    {
      "cell_type": "code",
      "source": [
        "pathwalk = walk(r\"ernon-spam/\")\n",
        "\n",
        "allHamData, allSpamData = [], []\n",
        "for root, dr, file in pathwalk:\n",
        "    if 'ham' in str(file):\n",
        "        for obj in file:\n",
        "            with open(root + '/' + obj, encoding='latin1') as ip:\n",
        "                allHamData.append(\" \".join(ip.readlines()))\n",
        "\n",
        "    elif 'spam' in str(file):\n",
        "        for obj in file:\n",
        "            with open(root + '/' + obj, encoding='latin1') as ip:\n",
        "                allSpamData.append(\" \".join(ip.readlines()))\n",
        "\n",
        "\n",
        "allHamData = list(set(allHamData))\n",
        "allSpamData = list(set(allSpamData))\n",
        "\n",
        "hamPlusSpamData = allHamData + allSpamData\n",
        "labels = [0]*len(allHamData) + [1]*len(allSpamData)\n",
        "\n",
        "raw_enron = pd.DataFrame({\"email\": hamPlusSpamData, \"label\": labels})"
      ],
      "metadata": {
        "id": "r_0GEQGDpHgn"
      },
      "execution_count": null,
      "outputs": []
    },
    {
      "cell_type": "markdown",
      "source": [
        "Получение данных SpamAssassin"
      ],
      "metadata": {
        "id": "D9stoiWLpeFq"
      }
    },
    {
      "cell_type": "code",
      "source": [
        "easy_ham_path = '/easy_ham/easy_ham/'\n",
        "hard_ham_path = '/hard_ham/hard_ham/'\n",
        "spam_path = '/spam_2/spam_2/'\n",
        "\n",
        "def get_data(path):\n",
        "    data = []\n",
        "    files = os.listdir(path)\n",
        "    for file in files:\n",
        "        f = open(path+file, encoding = \"ISO-8859-1\")\n",
        "        words_list = f.read()\n",
        "        data.append(words_list)\n",
        "        f.close()\n",
        "    return data\n",
        "\n",
        "easy_ham = get_data(easy_ham_path)\n",
        "hard_ham = get_data(hard_ham_path)\n",
        "ham = easy_ham + hard_ham\n",
        "spam = get_data(spam_path)\n",
        "\n",
        "all_data = ham + spam\n",
        "\n",
        "labels_first = [0]*len(ham) + [1]*len(spam)\n",
        "\n",
        "raw_assasin = pd.DataFrame({\"email\": all_data, \"label\": labels_first})"
      ],
      "metadata": {
        "id": "bhaMpDyvpXtO"
      },
      "execution_count": null,
      "outputs": []
    },
    {
      "cell_type": "markdown",
      "source": [
        "Объединение датасетов"
      ],
      "metadata": {
        "id": "-5F7rZ1-p4Yl"
      }
    },
    {
      "cell_type": "code",
      "source": [
        "res = pd.concat([raw_enron, raw_assasin], ignore_index=True)\n",
        "res.to_csv('spam_dataset.csv', index=False)"
      ],
      "metadata": {
        "id": "g40Dl_Vtp70K"
      },
      "execution_count": null,
      "outputs": []
    },
    {
      "cell_type": "markdown",
      "source": [
        "Обработка датасета"
      ],
      "metadata": {
        "id": "1E0X3aZSqCuc"
      }
    },
    {
      "cell_type": "code",
      "source": [
        "import pandas as pd"
      ],
      "metadata": {
        "id": "inm7HdVjqK67"
      },
      "execution_count": null,
      "outputs": []
    },
    {
      "cell_type": "code",
      "source": [
        "df = pd.read_csv('spam_dataset.csv')"
      ],
      "metadata": {
        "id": "xKzMx4rOqMpX"
      },
      "execution_count": null,
      "outputs": []
    },
    {
      "cell_type": "code",
      "source": [
        "df = df.drop_duplicates(subset=['email'])"
      ],
      "metadata": {
        "id": "lCLVGoAKqSXA"
      },
      "execution_count": null,
      "outputs": []
    },
    {
      "cell_type": "code",
      "source": [
        "df.label.hist(bins=3)"
      ],
      "metadata": {
        "id": "VyeT1V68qUN3"
      },
      "execution_count": null,
      "outputs": []
    },
    {
      "cell_type": "code",
      "source": [
        "X = df['email']\n",
        "y = df['label']"
      ],
      "metadata": {
        "id": "RQbHQcoWqWOv"
      },
      "execution_count": null,
      "outputs": []
    },
    {
      "cell_type": "code",
      "source": [
        "from sklearn.model_selection import train_test_split\n",
        "\n",
        "X_train, X_val, y_train, y_val = train_test_split(X, y, test_size=0.2, random_state=0)"
      ],
      "metadata": {
        "id": "V_jey1ENqYLB"
      },
      "execution_count": null,
      "outputs": []
    },
    {
      "cell_type": "markdown",
      "source": [
        "Получение векторов"
      ],
      "metadata": {
        "id": "E465QUffqaIC"
      }
    },
    {
      "cell_type": "code",
      "source": [
        "!pip install simpletransformers"
      ],
      "metadata": {
        "id": "JN2M6ojyqd7K"
      },
      "execution_count": null,
      "outputs": []
    },
    {
      "cell_type": "code",
      "source": [
        "from simpletransformers.language_representation import RepresentationModel"
      ],
      "metadata": {
        "id": "_7uk3zGhqb_i"
      },
      "execution_count": null,
      "outputs": []
    },
    {
      "cell_type": "code",
      "source": [
        "train = X_train.to_numpy()\n",
        "val = X_val.to_numpy()"
      ],
      "metadata": {
        "id": "Mr4yLt_wqfmp"
      },
      "execution_count": null,
      "outputs": []
    },
    {
      "cell_type": "code",
      "source": [
        "model = RepresentationModel(\n",
        "        model_type=\"bert\",\n",
        "        model_name=\"google/bert_uncased_L-12_H-768_A-12\",\n",
        "        use_cuda=True\n",
        "    )"
      ],
      "metadata": {
        "id": "Y7f6ST8EqhRS"
      },
      "execution_count": null,
      "outputs": []
    },
    {
      "cell_type": "code",
      "source": [
        "train_data = model.encode_sentences(train, combine_strategy=\"mean\")\n",
        "val_data = model.encode_sentences(val, combine_strategy=\"mean\")"
      ],
      "metadata": {
        "id": "y0sR4tWAqjVV"
      },
      "execution_count": null,
      "outputs": []
    },
    {
      "cell_type": "markdown",
      "source": [
        "Модель ML"
      ],
      "metadata": {
        "id": "KlNKKMuWqj06"
      }
    },
    {
      "cell_type": "code",
      "source": [
        "!pip install catboost"
      ],
      "metadata": {
        "id": "vlnXEIqGqmJ2"
      },
      "execution_count": null,
      "outputs": []
    },
    {
      "cell_type": "code",
      "source": [
        "from catboost import CatBoostClassifier\n",
        "\n",
        "clf = CatBoostClassifier(\n",
        "    iterations=500,\n",
        "    eval_metric =  'Precision',\n",
        "    use_best_model = True,\n",
        "    random_seed = 502\n",
        ")"
      ],
      "metadata": {
        "id": "21XRgVy7qoSg"
      },
      "execution_count": null,
      "outputs": []
    },
    {
      "cell_type": "code",
      "source": [
        "train_labels = y_train.to_numpy()\n",
        "clf.fit(train_data, train_labels, eval_set=(val_data, y_val.to_numpy()))"
      ],
      "metadata": {
        "id": "Lvdcm2wMqrrh"
      },
      "execution_count": null,
      "outputs": []
    },
    {
      "cell_type": "code",
      "source": [
        "preds_class = clf.predict(data=val_data)"
      ],
      "metadata": {
        "id": "TRj2jPdPqtmM"
      },
      "execution_count": null,
      "outputs": []
    },
    {
      "cell_type": "code",
      "source": [
        "from sklearn.metrics import classification_report\n",
        "\n",
        "y_true = y_val.to_numpy()\n",
        "y_pred = preds_class\n",
        "\n",
        "print(classification_report(y_true, y_pred))"
      ],
      "metadata": {
        "id": "-9ur3RntqveQ"
      },
      "execution_count": null,
      "outputs": []
    },
    {
      "cell_type": "markdown",
      "source": [
        "Результат\n",
        "\n",
        "\n",
        "              precision    recall  f1-score   support\n",
        "\n",
        "           0       0.99      0.98      0.98      3712\n",
        "           1       0.98      0.98      0.98      3223\n",
        "\n",
        "    accuracy                           0.98      6935\n",
        "   macro avg       0.98      0.98      0.98      6935\n",
        "weighted avg       0.98      0.98      0.98      6935"
      ],
      "metadata": {
        "id": "72vf_GWtqx8h"
      }
    },
    {
      "cell_type": "markdown",
      "source": [
        "Тестирование на данных из задачи\n",
        "\n",
        "CSV файл был получен аналогично обработке для SpamAssassin"
      ],
      "metadata": {
        "id": "eqiHDS7IrAUo"
      }
    },
    {
      "cell_type": "code",
      "source": [
        "df_test = pd.read_csv('test_spam.csv')"
      ],
      "metadata": {
        "id": "86q4-9hnqzEk"
      },
      "execution_count": null,
      "outputs": []
    },
    {
      "cell_type": "code",
      "source": [
        "df_test = df_test.drop_duplicates(subset=['email'])"
      ],
      "metadata": {
        "id": "tqPcgUQMrGjt"
      },
      "execution_count": null,
      "outputs": []
    },
    {
      "cell_type": "code",
      "source": [
        "df_test.label.hist(bins=3)"
      ],
      "metadata": {
        "id": "EHog64uHrTjB"
      },
      "execution_count": null,
      "outputs": []
    },
    {
      "cell_type": "code",
      "source": [
        "X_test = df['email']\n",
        "y_test = df['label']\n",
        "test = X_test.to_numpy()"
      ],
      "metadata": {
        "id": "juDjqK7ArVOg"
      },
      "execution_count": null,
      "outputs": []
    },
    {
      "cell_type": "code",
      "source": [
        "test_data = model.encode_sentences(test, combine_strategy=\"mean\")"
      ],
      "metadata": {
        "id": "BTdjiEpsrYVp"
      },
      "execution_count": null,
      "outputs": []
    },
    {
      "cell_type": "code",
      "source": [
        "preds_class = clf.predict(data=test_data)"
      ],
      "metadata": {
        "id": "KdDpNNizraNp"
      },
      "execution_count": null,
      "outputs": []
    },
    {
      "cell_type": "code",
      "source": [
        "from sklearn.metrics import classification_report\n",
        "\n",
        "y_true = y_test.to_numpy()\n",
        "y_pred = preds_class\n",
        "\n",
        "print(classification_report(y_true, y_pred))"
      ],
      "metadata": {
        "id": "g4j7C-5Xrb6t"
      },
      "execution_count": null,
      "outputs": []
    },
    {
      "cell_type": "markdown",
      "source": [
        "Результат\n",
        "\n",
        "\n",
        "              precision    recall  f1-score   support\n",
        "\n",
        "           0       1.00      1.00      1.00     18691\n",
        "           1       1.00      1.00      1.00     15980\n",
        "\n",
        "    accuracy                           1.00     34671\n",
        "   macro avg       1.00      1.00      1.00     34671\n",
        "weighted avg       1.00      1.00      1.00     34671\n"
      ],
      "metadata": {
        "id": "IBN-4HORrcpe"
      }
    },
    {
      "cell_type": "markdown",
      "source": [
        "Сохранение модели"
      ],
      "metadata": {
        "id": "xHp_LNjHrimg"
      }
    },
    {
      "cell_type": "code",
      "source": [
        "clf.save_model('catboost_model')"
      ],
      "metadata": {
        "id": "9zoq4r_VrkQM"
      },
      "execution_count": null,
      "outputs": []
    }
  ]
}